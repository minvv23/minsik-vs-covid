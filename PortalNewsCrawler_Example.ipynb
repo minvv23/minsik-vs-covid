{
 "cells": [
  {
   "cell_type": "code",
   "execution_count": 1,
   "metadata": {},
   "outputs": [],
   "source": [
    "import os, glob, re, json, math\n",
    "from datetime import date, datetime, timedelta\n",
    "from bs4 import BeautifulSoup\n",
    "import numpy as np, pandas as pd\n",
    "import requests, urllib.request, urllib.parse\n",
    "from hunnae_naver_scraper import naver_news_scraper, naver_commentlist_scraper, naver_childcommentlist_scraper, naver_idhistory_scraper\n",
    "from hunnae_daum_scraper import daum_news_scraper, daum_commentlist_scraper, daum_childcommentlist_scraper, daum_idhistory_scraper"
   ]
  },
  {
   "cell_type": "markdown",
   "metadata": {},
   "source": [
    "# 1. 네이버 크롤러"
   ]
  },
  {
   "cell_type": "code",
   "execution_count": 2,
   "metadata": {},
   "outputs": [],
   "source": [
    "url_naver = 'https://news.naver.com/main/read.nhn?mode=LSD&mid=shm&sid1=100&oid=422&aid=0000450251'"
   ]
  },
  {
   "cell_type": "markdown",
   "metadata": {},
   "source": [
    "### 1-1. 기사 정보 수집 : naver_news_scraper"
   ]
  },
  {
   "cell_type": "code",
   "execution_count": 3,
   "metadata": {},
   "outputs": [
    {
     "data": {
      "text/plain": [
       "{'oid': '422',\n",
       " 'aid': '0000450251',\n",
       " 'title': '與 \"안보, 정쟁화 말라\" 野 \"군, 정치의 포로\"',\n",
       " 'date': Timestamp('2020-10-01 14:22:00'),\n",
       " 'summary': None,\n",
       " 'body': '동영상 뉴스 추석이자 국군의날인 오늘(1일) 여야는 코로나19 방역과 안보의 중요성을 강조하면서도 서로를 향해 날을 세웠습니다. 더불어민주당 허영 대변인은 논평에서 국민의힘을 겨냥해 정치공학 셈법으로 국가안보를 정쟁화하지 말라고 비판했습니다. 허 대변인은 또한 개천절을 위기의 날로 바꾸려는 세력이 있다며, 좌시하지 않겠다고 강조했습니다. 반면에 국민의힘 김은혜 대변인은 논평에서 군이 공무원 피격 사건에서 무기력한 모습을 보이는 등 정치의 포로가 됐다고 주장했습니다. 그러면서 북한 대변인, 법무장관 비서를 자임하는 군은 존재 이유가 없다고 비판했습니다. 연합뉴스TV 기사문의 및 제보 : 카톡/라인 jebo23',\n",
       " 'category': '정치',\n",
       " 'press': '연합뉴스TV',\n",
       " 'numcomment': 15}"
      ]
     },
     "execution_count": 3,
     "metadata": {},
     "output_type": "execute_result"
    }
   ],
   "source": [
    "news_dict_naver = naver_news_scraper(url_naver)\n",
    "news_dict_naver"
   ]
  },
  {
   "cell_type": "markdown",
   "metadata": {},
   "source": [
    "### 1-2. 기사 댓글 json 수집  : naver_commentlist_scraper"
   ]
  },
  {
   "cell_type": "code",
   "execution_count": 4,
   "metadata": {},
   "outputs": [
    {
     "data": {
      "text/plain": [
       "{'ticket': 'news',\n",
       " 'objectId': 'news422,0000450251',\n",
       " 'categoryId': '*',\n",
       " 'templateId': 'default_politics',\n",
       " 'commentNo': 2265322013,\n",
       " 'parentCommentNo': 2265322013,\n",
       " 'replyLevel': 1,\n",
       " 'replyCount': 0,\n",
       " 'replyAllCount': 0,\n",
       " 'replyPreviewNo': None,\n",
       " 'replyList': None,\n",
       " 'imageCount': 0,\n",
       " 'imageList': None,\n",
       " 'imagePathList': None,\n",
       " 'imageWidthList': None,\n",
       " 'imageHeightList': None,\n",
       " 'commentType': 'txt',\n",
       " 'stickerId': None,\n",
       " 'sticker': None,\n",
       " 'sortValue': 1601529924036,\n",
       " 'contents': '참으로 전세계에 얼굴이 뜨겁다. 어찌 이리 질낮은 의원들만 골라 뽑았는지...',\n",
       " 'userIdNo': '1BNSu',\n",
       " 'exposedUserIp': None,\n",
       " 'lang': 'ko',\n",
       " 'country': 'KR',\n",
       " 'idType': 'naver',\n",
       " 'idProvider': 'naver',\n",
       " 'userName': 'duda****',\n",
       " 'userProfileImage': '',\n",
       " 'profileType': 'naver',\n",
       " 'modTime': '2020-10-01T14:25:24+0900',\n",
       " 'modTimeGmt': '2020-10-01T05:25:24+0000',\n",
       " 'regTime': '2020-10-01T14:25:24+0900',\n",
       " 'regTimeGmt': '2020-10-01T05:25:24+0000',\n",
       " 'sympathyCount': 6,\n",
       " 'antipathyCount': 0,\n",
       " 'userBlind': False,\n",
       " 'hideReplyButton': False,\n",
       " 'status': 0,\n",
       " 'mine': False,\n",
       " 'best': False,\n",
       " 'mentions': None,\n",
       " 'toUser': None,\n",
       " 'userStatus': 0,\n",
       " 'categoryImage': None,\n",
       " 'open': True,\n",
       " 'levelCode': None,\n",
       " 'grades': None,\n",
       " 'sympathy': False,\n",
       " 'antipathy': False,\n",
       " 'snsList': None,\n",
       " 'metaInfo': None,\n",
       " 'extension': None,\n",
       " 'audioInfoList': None,\n",
       " 'translation': None,\n",
       " 'report': None,\n",
       " 'middleBlindReport': False,\n",
       " 'spamInfo': None,\n",
       " 'userHomepageUrl': None,\n",
       " 'defamation': False,\n",
       " 'hiddenByCleanbot': False,\n",
       " 'evalScore': None,\n",
       " 'visible': True,\n",
       " 'serviceId': None,\n",
       " 'idNo': '1BNSu',\n",
       " 'blindReport': False,\n",
       " 'deleted': False,\n",
       " 'expose': True,\n",
       " 'anonymous': False,\n",
       " 'manager': False,\n",
       " 'secret': False,\n",
       " 'blind': False,\n",
       " 'virtual': False,\n",
       " 'profileUserId': None,\n",
       " 'userBlocked': False,\n",
       " 'maskedUserId': 'duda****',\n",
       " 'maskedUserName': 'du****',\n",
       " 'containText': True,\n",
       " 'validateBanWords': False,\n",
       " 'exposeByCountry': False}"
      ]
     },
     "execution_count": 4,
     "metadata": {},
     "output_type": "execute_result"
    }
   ],
   "source": [
    "comments_json_naver = naver_commentlist_scraper(url_naver)\n",
    "comments_json_naver[0]"
   ]
  },
  {
   "cell_type": "markdown",
   "metadata": {},
   "source": [
    "### 1-3. 기사 '대'댓글 json 수집  : naver_childcommentlist_scraper"
   ]
  },
  {
   "cell_type": "code",
   "execution_count": 5,
   "metadata": {},
   "outputs": [
    {
     "data": {
      "text/plain": [
       "{'ticket': 'news',\n",
       " 'objectId': 'news422,0000450251',\n",
       " 'categoryId': '*',\n",
       " 'templateId': 'default_politics',\n",
       " 'commentNo': 2265346393,\n",
       " 'parentCommentNo': 2265344693,\n",
       " 'replyLevel': 2,\n",
       " 'replyCount': 0,\n",
       " 'replyAllCount': 0,\n",
       " 'replyPreviewNo': 1,\n",
       " 'replyList': None,\n",
       " 'imageCount': 0,\n",
       " 'imageList': None,\n",
       " 'imagePathList': None,\n",
       " 'imageWidthList': None,\n",
       " 'imageHeightList': None,\n",
       " 'commentType': 'txt',\n",
       " 'stickerId': None,\n",
       " 'sticker': None,\n",
       " 'sortValue': 1601532076625,\n",
       " 'contents': '정권의개가 돼서 댓글이나 쳐달고 반인류적 쿠테타나 모의했던 박근혜정부시절 그게 바로 보수의 민낯이다',\n",
       " 'userIdNo': '9ArRB',\n",
       " 'exposedUserIp': None,\n",
       " 'lang': 'ko',\n",
       " 'country': 'KR',\n",
       " 'idType': 'naver',\n",
       " 'idProvider': 'naver',\n",
       " 'userName': 'ohsg****',\n",
       " 'userProfileImage': '',\n",
       " 'profileType': 'naver',\n",
       " 'modTime': '2020-10-01T15:01:17+0900',\n",
       " 'modTimeGmt': '2020-10-01T06:01:17+0000',\n",
       " 'regTime': '2020-10-01T15:01:17+0900',\n",
       " 'regTimeGmt': '2020-10-01T06:01:17+0000',\n",
       " 'sympathyCount': 1,\n",
       " 'antipathyCount': 0,\n",
       " 'userBlind': False,\n",
       " 'hideReplyButton': False,\n",
       " 'status': 0,\n",
       " 'mine': False,\n",
       " 'best': False,\n",
       " 'mentions': None,\n",
       " 'toUser': None,\n",
       " 'userStatus': 0,\n",
       " 'categoryImage': None,\n",
       " 'open': False,\n",
       " 'levelCode': None,\n",
       " 'grades': None,\n",
       " 'sympathy': False,\n",
       " 'antipathy': False,\n",
       " 'snsList': None,\n",
       " 'metaInfo': None,\n",
       " 'extension': None,\n",
       " 'audioInfoList': None,\n",
       " 'translation': None,\n",
       " 'report': None,\n",
       " 'middleBlindReport': False,\n",
       " 'spamInfo': None,\n",
       " 'userHomepageUrl': None,\n",
       " 'defamation': False,\n",
       " 'hiddenByCleanbot': False,\n",
       " 'evalScore': None,\n",
       " 'visible': True,\n",
       " 'serviceId': None,\n",
       " 'idNo': '9ArRB',\n",
       " 'blindReport': False,\n",
       " 'deleted': False,\n",
       " 'expose': True,\n",
       " 'anonymous': False,\n",
       " 'manager': False,\n",
       " 'secret': False,\n",
       " 'blind': False,\n",
       " 'virtual': False,\n",
       " 'profileUserId': None,\n",
       " 'userBlocked': False,\n",
       " 'maskedUserId': 'ohsg****',\n",
       " 'maskedUserName': 'oh****',\n",
       " 'containText': True,\n",
       " 'validateBanWords': False,\n",
       " 'exposeByCountry': False}"
      ]
     },
     "execution_count": 5,
     "metadata": {},
     "output_type": "execute_result"
    }
   ],
   "source": [
    "childcomments_json_naver = naver_childcommentlist_scraper(url_naver, comments_json_naver)\n",
    "childcomments_json_naver[0]"
   ]
  },
  {
   "cell_type": "markdown",
   "metadata": {},
   "source": [
    "### 1-4. 유저 댓글 이력 json 수집 : naver_idhistory_scraper"
   ]
  },
  {
   "cell_type": "code",
   "execution_count": 6,
   "metadata": {},
   "outputs": [],
   "source": [
    "comment_no1_naver = comments_json_naver[0]['commentNo']\n",
    "comment_no2_naver = childcomments_json_naver[0]['commentNo']"
   ]
  },
  {
   "cell_type": "code",
   "execution_count": 7,
   "metadata": {},
   "outputs": [],
   "source": [
    "idhistory_no1_naver = naver_idhistory_scraper(url_naver, comment_no1_naver)\n",
    "idhistory_no2_naver = naver_idhistory_scraper(url_naver, comment_no2_naver)"
   ]
  },
  {
   "cell_type": "markdown",
   "metadata": {},
   "source": [
    "# 2. 다음 크롤러"
   ]
  },
  {
   "cell_type": "code",
   "execution_count": 2,
   "metadata": {},
   "outputs": [],
   "source": [
    "url_daum = 'https://news.v.daum.net/v/20201008211607146'\n",
    "#url_daum = 'https://news.v.daum.net/v/20200908151019957'"
   ]
  },
  {
   "cell_type": "markdown",
   "metadata": {},
   "source": [
    "### 2-1. 기사 정보 수집 : daum_news_scraper"
   ]
  },
  {
   "cell_type": "code",
   "execution_count": 3,
   "metadata": {},
   "outputs": [
    {
     "data": {
      "text/plain": [
       "{'title': '과세대상 늘려도 9만명..\"주가폭락 우려 현실성 없다\" 지적',\n",
       " 'postkey': '20201008211607146',\n",
       " 'date': '2020.10.08',\n",
       " 'content': '내년부터 주식 양도차익 과세 대상인 대주주 기준을 종목당 10억원에서 3억원으로 낮추는 자본소득 과세 강화 방안이 미뤄질 가능성이 커지고 있다. 기획재정부가 예정대로 추진하겠다는 뜻을 거듭 밝히고 있지만, 개인투자자들의 반발에 여당이 2년 유예를 공식화하고 나섰고 야당도 적극 동조하고 있기 때문이다. 하지만 이는 자본소득에 대한 과세 강화로 조세 형평성을 높이겠다는 문재인 정부의 국정 방향과 어긋나는 것이어서 논란이 예상된다. 김태년 더불어민주당 원내대표는 8일 국정감사 대책회의에서 “2년 뒤면 양도소득세가 전면 도입되는 만큼 대주주 요건 완화는 달라진 사정에 맞춰 재검토가 필요하다. 정책은 일관성이 있어야 하지만 상황 변화와 현장 수용성도 그에 못지않게 중요하다”며 “민주당은 여론을 충분히 수렴한 뒤에 조속한 시일 내에 당정협의를 통해 관련 정책을 결정하겠다”고 말했다. 홍남기 경제부총리 겸 기획재정부 장관이 7∼8일 이틀에 걸친 기재부 국감에서 대주주 기준 완화 방침에 변화가 없다는 점을 분명히 한 상황에서 여당 원내대표가 이를 공개적으로 반박한 것이다. 대주주 기준 완화 유예는 여당뿐 아니라 제1야당인 국민의힘도 적극적으로 동조하고 있어, 정부나 청와대가 끝까지 반대할 경우 여야 합의로 입법을 통해 과세 대상 확대 방안이 무산될 수도 있다. 실제 추경호 국민의힘 의원은 이날 기재부 국감에서 “여당 의원들과 의견이 같다. 법은 국회에서 제정하는 것이니 기재부 의견은 참고하고 여야가 뜻을 모으면 (현행 기준 유지가) 가능할 것”이라고 말했다. 주식 대량 보유자이자 양도차익 과세 대상인 대주주의 정의는 소득세법 시행령에 담겨 있는데, 해마다 그 대상이 확대돼 왔다. 2016년 25억원이던 기준이 2018년 15억원, 2020년 10억원으로 낮아졌다. 내년엔 추가로 완화돼 올해 연말 기준으로 한 종목당 3억원 이상 주식 보유자는 내년 4월부터 양도세 과세 대상이 된다. 기재부는 대주주 기준이 3억원으로 완화되면 과세 대상이 전체 주식투자자의 1.5%인 9만명가량 될 것으로 판단하고 있다. 특히 대주주 기준을 3억원 이상으로 낮추는 방안은 문재인 정부 출범 이후 정해졌다. 2017년 문재인 정부 인수위 성격의 국정기획자문위원회는 조세 개혁 과제의 하나로 ‘자본이득에 대한 과세 강화’를 약속했고, 이어 기재부는 2021년부터 대주주 기준을 3억원으로 낮추겠다는 계획을 발표했다. 기재부는 다음해 이 내용을 담아 시행령을 개정했다. 같은 해 재정개혁특별위원회도 조세 개혁과제로 자본이득에 대한 과세 강화를 권고했다. 여당의 대주주 요건 완화 유예 주장은 문재인 정부 출범 초기에 마련한 자본소득 과세 강화 계획을 스스로 뒤집는 것이어서 비판이 나온다. 오종문 동국대 교수(경영학)는 “2018년 소득세법 시행령에 ‘대주주 3억원 요건’을 담았는데 이제 와서 이를 번복하는 것은 조세 형평성 차원과 동떨어지는데다 정책의 일관성과 신뢰성을 떨어뜨릴 수 있다”고 말했다. 더욱이 일부에서 제기하는 연말 매도 물량 급증으로 인한 주가 폭락 우려도 현실성이 없다는 주장이 나온다. 황세운 자본시장연구원 연구위원은 “대주주 기준 완화가 있었던 2019년 12월 말 순매도가 4조8천억원 규모였고, 올해 말에는 더 커질 수 있다. 하지만 기업의 매출이나 영업이익에 변화가 있는 것은 아니어서 일시적인 변동성이 커질 뿐 주가 폭락은 없을 것”이라고 말했다. 이정훈 기자 ljh9242@hani.co.kr',\n",
       " 'category': '경제',\n",
       " 'press': '한겨레',\n",
       " 'img_list': ['https://img2.daumcdn.net/thumb/R658x0.q70/?fname=https://t1.daumcdn.net/news/202010/08/hani/20201008211607860grvb.jpg',\n",
       "  'https://img4.daumcdn.net/thumb/R658x0.q70/?fname=https://t1.daumcdn.net/news/202010/08/hani/20201008211608325lgmx.jpg',\n",
       "  'https://img4.daumcdn.net/thumb/R658x0.q70/?fname=https://t1.daumcdn.net/news/202010/08/hani/20201008211609327szwm.jpg'],\n",
       " 'commentcount': 8}"
      ]
     },
     "execution_count": 3,
     "metadata": {},
     "output_type": "execute_result"
    }
   ],
   "source": [
    "news_dict_daum = daum_news_scraper(url_daum)\n",
    "news_dict_daum"
   ]
  },
  {
   "cell_type": "markdown",
   "metadata": {},
   "source": [
    "### 2-2. 기사 댓글 json 수집 : daum_commentlist_scraper"
   ]
  },
  {
   "cell_type": "code",
   "execution_count": 4,
   "metadata": {},
   "outputs": [
    {
     "data": {
      "text/plain": [
       "{'id': 590600173,\n",
       " 'userId': -2026478,\n",
       " 'postId': 149184951,\n",
       " 'forumId': -99,\n",
       " 'parentId': 0,\n",
       " 'type': 'COMMENT',\n",
       " 'status': 'S',\n",
       " 'flags': 256,\n",
       " 'rating': 0,\n",
       " 'content': '한.종.목.에 3억원 가진 사람이 얼마나 많다고 난리들이냐?',\n",
       " 'createdAt': '2020-10-08T21:33:17+0900',\n",
       " 'updatedAt': '2020-10-08T21:33:17+0900',\n",
       " 'childCount': 2,\n",
       " 'likeCount': 1,\n",
       " 'dislikeCount': 2,\n",
       " 'recommendCount': -1,\n",
       " 'screenedByKeeper': False,\n",
       " 'user': {'id': -2026478,\n",
       "  'status': 'S',\n",
       "  'type': 'USER',\n",
       "  'flags': 0,\n",
       "  'icon': 'https://t1.daumcdn.net/profile/7CFRwQdCR5M0',\n",
       "  'url': '',\n",
       "  'username': 'DAUM:8vb8',\n",
       "  'roles': 'ROLE_USER,ROLE_DAUM,ROLE_IDENTIFIED',\n",
       "  'providerId': 'DAUM',\n",
       "  'providerUserId': '8vb8',\n",
       "  'displayName': 'wgfrit',\n",
       "  'description': '',\n",
       "  'commentCount': 262}}"
      ]
     },
     "execution_count": 4,
     "metadata": {},
     "output_type": "execute_result"
    }
   ],
   "source": [
    "comments_json_daum = daum_commentlist_scraper(url_daum)\n",
    "comments_json_daum[0]"
   ]
  },
  {
   "cell_type": "markdown",
   "metadata": {},
   "source": [
    "### 2-3. 기사 '대'댓글 json 수집  : daum_childcommentlist_scraper"
   ]
  },
  {
   "cell_type": "code",
   "execution_count": 5,
   "metadata": {},
   "outputs": [
    {
     "data": {
      "text/plain": [
       "{'id': 590615508,\n",
       " 'userId': -5660204,\n",
       " 'postId': 149184951,\n",
       " 'forumId': -99,\n",
       " 'parentId': 590600173,\n",
       " 'type': 'COMMENT',\n",
       " 'status': 'S',\n",
       " 'flags': 256,\n",
       " 'rating': 0,\n",
       " 'content': '주식안하지?',\n",
       " 'createdAt': '2020-10-08T22:23:39+0900',\n",
       " 'updatedAt': '2020-10-08T22:23:39+0900',\n",
       " 'childCount': 0,\n",
       " 'likeCount': 0,\n",
       " 'dislikeCount': 0,\n",
       " 'recommendCount': 0,\n",
       " 'screenedByKeeper': False,\n",
       " 'post': {'id': 149184951,\n",
       "  'forumId': -99,\n",
       "  'userId': 0,\n",
       "  'postKey': '20201008211607146',\n",
       "  'type': 'AUTO',\n",
       "  'status': 'S',\n",
       "  'flags': 0,\n",
       "  'createdAt': '2020-10-08T21:16:27+0900',\n",
       "  'updatedAt': '2020-10-08T21:16:27+0900',\n",
       "  'title': '대주주 늘려도 9만명..\"주가폭락 우려 현실성 없다\" 지적',\n",
       "  'url': 'https://news.v.daum.net/v/20201008211607146',\n",
       "  'icon': 'https://img1.daumcdn.net/thumb/S1200x630/?fname=https://t1.daumcdn.net/news/202010/08/hani/20201008211607860grvb.jpg',\n",
       "  'commentCount': 8,\n",
       "  'childCount': 3,\n",
       "  'officialCount': 0},\n",
       " 'user': {'id': -5660204,\n",
       "  'status': 'S',\n",
       "  'type': 'USER',\n",
       "  'flags': 0,\n",
       "  'icon': 'https://t1.daumcdn.net/profile/5lenVr4mOzA0',\n",
       "  'url': '',\n",
       "  'username': 'DAUM:nKtC',\n",
       "  'roles': 'ROLE_USER,ROLE_DAUM,ROLE_IDENTIFIED',\n",
       "  'providerId': 'DAUM',\n",
       "  'providerUserId': 'nKtC',\n",
       "  'displayName': '천천히갑시다',\n",
       "  'description': '',\n",
       "  'commentCount': 2011},\n",
       " 'parent': {'id': 590600173,\n",
       "  'userId': -2026478,\n",
       "  'postId': 149184951,\n",
       "  'forumId': -99,\n",
       "  'parentId': 0,\n",
       "  'type': 'COMMENT',\n",
       "  'status': 'S',\n",
       "  'flags': 256,\n",
       "  'rating': 0,\n",
       "  'content': '한.종.목.에 3억원 가진 사람이 얼마나 많다고 난리들이냐?',\n",
       "  'createdAt': '2020-10-08T21:33:17+0900',\n",
       "  'updatedAt': '2020-10-08T21:33:17+0900',\n",
       "  'childCount': 2,\n",
       "  'likeCount': 1,\n",
       "  'dislikeCount': 2,\n",
       "  'recommendCount': -1,\n",
       "  'screenedByKeeper': False,\n",
       "  'post': {'id': 149184951,\n",
       "   'forumId': -99,\n",
       "   'userId': 0,\n",
       "   'postKey': '20201008211607146',\n",
       "   'type': 'AUTO',\n",
       "   'status': 'S',\n",
       "   'flags': 0,\n",
       "   'createdAt': '2020-10-08T21:16:27+0900',\n",
       "   'updatedAt': '2020-10-08T21:16:27+0900',\n",
       "   'title': '대주주 늘려도 9만명..\"주가폭락 우려 현실성 없다\" 지적',\n",
       "   'url': 'https://news.v.daum.net/v/20201008211607146',\n",
       "   'icon': 'https://img1.daumcdn.net/thumb/S1200x630/?fname=https://t1.daumcdn.net/news/202010/08/hani/20201008211607860grvb.jpg',\n",
       "   'commentCount': 8,\n",
       "   'childCount': 3,\n",
       "   'officialCount': 0},\n",
       "  'user': {'id': -2026478,\n",
       "   'status': 'S',\n",
       "   'type': 'USER',\n",
       "   'flags': 0,\n",
       "   'icon': 'https://t1.daumcdn.net/profile/7CFRwQdCR5M0',\n",
       "   'url': '',\n",
       "   'username': 'DAUM:8vb8',\n",
       "   'roles': 'ROLE_USER,ROLE_DAUM,ROLE_IDENTIFIED',\n",
       "   'providerId': 'DAUM',\n",
       "   'providerUserId': '8vb8',\n",
       "   'displayName': 'wgfrit',\n",
       "   'description': '',\n",
       "   'commentCount': 262}}}"
      ]
     },
     "execution_count": 5,
     "metadata": {},
     "output_type": "execute_result"
    }
   ],
   "source": [
    "childcomments_json_daum = daum_childcommentlist_scraper(comments_json_daum)\n",
    "childcomments_json_daum[0]"
   ]
  },
  {
   "cell_type": "markdown",
   "metadata": {},
   "source": [
    "### 2-4. 유저 댓글 이력 json 수집 : daum_idhistory_scraper"
   ]
  },
  {
   "cell_type": "code",
   "execution_count": 6,
   "metadata": {},
   "outputs": [],
   "source": [
    "comment_no1_daum = comments_json_daum[0]['userId']\n",
    "comment_no2_daum = childcomments_json_daum[0]['userId']"
   ]
  },
  {
   "cell_type": "code",
   "execution_count": 7,
   "metadata": {},
   "outputs": [],
   "source": [
    "idhistory_no1_daum = daum_idhistory_scraper(comment_no1_daum)\n",
    "idhistory_no2_daum = daum_idhistory_scraper(comment_no2_daum)"
   ]
  }
 ],
 "metadata": {
  "kernelspec": {
   "display_name": "Python 3",
   "language": "python",
   "name": "python3"
  },
  "language_info": {
   "codemirror_mode": {
    "name": "ipython",
    "version": 3
   },
   "file_extension": ".py",
   "mimetype": "text/x-python",
   "name": "python",
   "nbconvert_exporter": "python",
   "pygments_lexer": "ipython3",
   "version": "3.7.0"
  }
 },
 "nbformat": 4,
 "nbformat_minor": 4
}
